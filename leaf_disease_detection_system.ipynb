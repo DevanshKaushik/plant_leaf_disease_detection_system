{
  "cells": [
    {
      "cell_type": "code",
      "execution_count": 2,
      "metadata": {
        "id": "nG3Z_W9ORuu9"
      },
      "outputs": [],
      "source": [
        "# !pip install -q kaggle\n",
        "# !mkdir ~/.kaggle\n",
        "# !cp kaggle.json ~/.kaggle/\n",
        "# !chmod 600 ~/.kaggle/kaggle.json\n",
        "# !kaggle datasets download -d vipoooool/new-plant-diseases-dataset\n",
        "# !unzip new-plant-diseases-dataset.zip"
      ]
    },
    {
      "cell_type": "code",
      "execution_count": 3,
      "metadata": {
        "id": "PrsgeBZ6SGEt"
      },
      "outputs": [],
      "source": [
        "import numpy as np\n",
        "import pandas as pd\n",
        "import matplotlib.pyplot as plt\n",
        "import os\n",
        "\n",
        "import tensorflow.keras\n",
        "\n",
        "from tensorflow.keras.preprocessing.image import ImageDataGenerator, img_to_array, load_img\n",
        "from tensorflow.keras.applications.vgg19 import VGG19, preprocess_input, decode_predictions"
      ]
    },
    {
      "cell_type": "code",
      "execution_count": 4,
      "metadata": {
        "id": "LHP_oNB4TDSL"
      },
      "outputs": [],
      "source": [
        "train_datagen = ImageDataGenerator(zoom_range= 0.5,\n",
        "                                   shear_range= 0.3,\n",
        "                                   horizontal_flip= True,\n",
        "                                   preprocessing_function = preprocess_input)\n",
        "\n",
        "val_datagen = ImageDataGenerator(preprocessing_function = preprocess_input)"
      ]
    },
    {
      "cell_type": "code",
      "execution_count": 5,
      "metadata": {
        "colab": {
          "base_uri": "https://localhost:8080/"
        },
        "id": "xa52wcAGWpYO",
        "outputId": "f40c1a15-091e-4b57-b817-449c9840efc0"
      },
      "outputs": [
        {
          "output_type": "stream",
          "name": "stdout",
          "text": [
            "Found 70295 images belonging to 38 classes.\n",
            "Found 17572 images belonging to 38 classes.\n"
          ]
        }
      ],
      "source": [
        "train = train_datagen.flow_from_directory(directory =\"/content/New Plant Diseases Dataset(Augmented)/New Plant Diseases Dataset(Augmented)/train\",\n",
        "                                          target_size= (256,256),\n",
        "                                          batch_size= 32)\n",
        "val = val_datagen.flow_from_directory(directory =\"/content/New Plant Diseases Dataset(Augmented)/New Plant Diseases Dataset(Augmented)/valid\",\n",
        "                                          target_size= (256,256),\n",
        "                                          batch_size= 32)"
      ]
    },
    {
      "cell_type": "code",
      "execution_count": 6,
      "metadata": {
        "id": "Jt4XCLfSWvsD"
      },
      "outputs": [],
      "source": [
        "t_img, label = train.next()"
      ]
    },
    {
      "cell_type": "code",
      "execution_count": 7,
      "metadata": {
        "id": "4i0kmufqWzH6"
      },
      "outputs": [],
      "source": [
        "def plotImage(img_arr, label):\n",
        "  for im, l in zip(img_arr, label):\n",
        "    plt.figure(figsize=(5,5)) \n",
        "    plt.show()"
      ]
    },
    {
      "cell_type": "code",
      "execution_count": 8,
      "metadata": {
        "colab": {
          "base_uri": "https://localhost:8080/",
          "height": 69
        },
        "id": "NYAGxOLHW3aI",
        "outputId": "228f3d5d-1010-4355-8f74-34e14b9a9825"
      },
      "outputs": [
        {
          "output_type": "display_data",
          "data": {
            "text/plain": [
              "<Figure size 360x360 with 0 Axes>"
            ]
          },
          "metadata": {}
        },
        {
          "output_type": "display_data",
          "data": {
            "text/plain": [
              "<Figure size 360x360 with 0 Axes>"
            ]
          },
          "metadata": {}
        },
        {
          "output_type": "display_data",
          "data": {
            "text/plain": [
              "<Figure size 360x360 with 0 Axes>"
            ]
          },
          "metadata": {}
        }
      ],
      "source": [
        "plotImage(t_img[:3], label[:3])"
      ]
    },
    {
      "cell_type": "code",
      "execution_count": 9,
      "metadata": {
        "id": "k3A0TNpjW6fM"
      },
      "outputs": [],
      "source": [
        "from tensorflow.keras.layers import Dense, Flatten\n",
        "from tensorflow.keras.models import Model\n",
        "from tensorflow.keras.applications.vgg19 import VGG19\n",
        "from tensorflow import keras"
      ]
    },
    {
      "cell_type": "code",
      "execution_count": 10,
      "metadata": {
        "id": "3wKD3wcuXG43",
        "colab": {
          "base_uri": "https://localhost:8080/"
        },
        "outputId": "e3197431-e2b1-48a8-a2da-4c5cc5f2aaad"
      },
      "outputs": [
        {
          "output_type": "stream",
          "name": "stdout",
          "text": [
            "Downloading data from https://storage.googleapis.com/tensorflow/keras-applications/vgg19/vgg19_weights_tf_dim_ordering_tf_kernels_notop.h5\n",
            "80134624/80134624 [==============================] - 0s 0us/step\n"
          ]
        }
      ],
      "source": [
        "base_model = VGG19(input_shape=(256,256,3), include_top= False)"
      ]
    },
    {
      "cell_type": "code",
      "execution_count": 11,
      "metadata": {
        "id": "uE0F1S9TXLOp"
      },
      "outputs": [],
      "source": [
        "for layer in base_model.layers:\n",
        "  layer.trainable= False"
      ]
    },
    {
      "cell_type": "code",
      "execution_count": 12,
      "metadata": {
        "colab": {
          "base_uri": "https://localhost:8080/"
        },
        "id": "55iKEDsmXSeb",
        "outputId": "992039a8-1045-4a28-ce25-793905543eda"
      },
      "outputs": [
        {
          "output_type": "stream",
          "name": "stdout",
          "text": [
            "Model: \"vgg19\"\n",
            "_________________________________________________________________\n",
            " Layer (type)                Output Shape              Param #   \n",
            "=================================================================\n",
            " input_1 (InputLayer)        [(None, 256, 256, 3)]     0         \n",
            "                                                                 \n",
            " block1_conv1 (Conv2D)       (None, 256, 256, 64)      1792      \n",
            "                                                                 \n",
            " block1_conv2 (Conv2D)       (None, 256, 256, 64)      36928     \n",
            "                                                                 \n",
            " block1_pool (MaxPooling2D)  (None, 128, 128, 64)      0         \n",
            "                                                                 \n",
            " block2_conv1 (Conv2D)       (None, 128, 128, 128)     73856     \n",
            "                                                                 \n",
            " block2_conv2 (Conv2D)       (None, 128, 128, 128)     147584    \n",
            "                                                                 \n",
            " block2_pool (MaxPooling2D)  (None, 64, 64, 128)       0         \n",
            "                                                                 \n",
            " block3_conv1 (Conv2D)       (None, 64, 64, 256)       295168    \n",
            "                                                                 \n",
            " block3_conv2 (Conv2D)       (None, 64, 64, 256)       590080    \n",
            "                                                                 \n",
            " block3_conv3 (Conv2D)       (None, 64, 64, 256)       590080    \n",
            "                                                                 \n",
            " block3_conv4 (Conv2D)       (None, 64, 64, 256)       590080    \n",
            "                                                                 \n",
            " block3_pool (MaxPooling2D)  (None, 32, 32, 256)       0         \n",
            "                                                                 \n",
            " block4_conv1 (Conv2D)       (None, 32, 32, 512)       1180160   \n",
            "                                                                 \n",
            " block4_conv2 (Conv2D)       (None, 32, 32, 512)       2359808   \n",
            "                                                                 \n",
            " block4_conv3 (Conv2D)       (None, 32, 32, 512)       2359808   \n",
            "                                                                 \n",
            " block4_conv4 (Conv2D)       (None, 32, 32, 512)       2359808   \n",
            "                                                                 \n",
            " block4_pool (MaxPooling2D)  (None, 16, 16, 512)       0         \n",
            "                                                                 \n",
            " block5_conv1 (Conv2D)       (None, 16, 16, 512)       2359808   \n",
            "                                                                 \n",
            " block5_conv2 (Conv2D)       (None, 16, 16, 512)       2359808   \n",
            "                                                                 \n",
            " block5_conv3 (Conv2D)       (None, 16, 16, 512)       2359808   \n",
            "                                                                 \n",
            " block5_conv4 (Conv2D)       (None, 16, 16, 512)       2359808   \n",
            "                                                                 \n",
            " block5_pool (MaxPooling2D)  (None, 8, 8, 512)         0         \n",
            "                                                                 \n",
            "=================================================================\n",
            "Total params: 20,024,384\n",
            "Trainable params: 0\n",
            "Non-trainable params: 20,024,384\n",
            "_________________________________________________________________\n"
          ]
        }
      ],
      "source": [
        "base_model.summary()"
      ]
    },
    {
      "cell_type": "code",
      "execution_count": 13,
      "metadata": {
        "id": "jlwFYwyXXWOA"
      },
      "outputs": [],
      "source": [
        "X = Flatten()(base_model.output)\n",
        "\n",
        "X = Dense(units = 38, activation='softmax')(X)\n",
        "\n",
        "#Creating our model\n",
        "model = Model(base_model.input, X)"
      ]
    },
    {
      "cell_type": "code",
      "execution_count": 14,
      "metadata": {
        "id": "ReEQVZP8XfbU"
      },
      "outputs": [],
      "source": [
        "model.compile(optimizer= 'adam',\n",
        "              loss= keras.losses.categorical_crossentropy,\n",
        "              metrics= ['accuracy'])"
      ]
    },
    {
      "cell_type": "code",
      "execution_count": 15,
      "metadata": {
        "colab": {
          "base_uri": "https://localhost:8080/"
        },
        "id": "HLmw8XLyXjwq",
        "outputId": "1af7fa66-2614-413f-8937-95cd1f39bbf1"
      },
      "outputs": [
        {
          "output_type": "stream",
          "name": "stdout",
          "text": [
            "Model: \"model\"\n",
            "_________________________________________________________________\n",
            " Layer (type)                Output Shape              Param #   \n",
            "=================================================================\n",
            " input_1 (InputLayer)        [(None, 256, 256, 3)]     0         \n",
            "                                                                 \n",
            " block1_conv1 (Conv2D)       (None, 256, 256, 64)      1792      \n",
            "                                                                 \n",
            " block1_conv2 (Conv2D)       (None, 256, 256, 64)      36928     \n",
            "                                                                 \n",
            " block1_pool (MaxPooling2D)  (None, 128, 128, 64)      0         \n",
            "                                                                 \n",
            " block2_conv1 (Conv2D)       (None, 128, 128, 128)     73856     \n",
            "                                                                 \n",
            " block2_conv2 (Conv2D)       (None, 128, 128, 128)     147584    \n",
            "                                                                 \n",
            " block2_pool (MaxPooling2D)  (None, 64, 64, 128)       0         \n",
            "                                                                 \n",
            " block3_conv1 (Conv2D)       (None, 64, 64, 256)       295168    \n",
            "                                                                 \n",
            " block3_conv2 (Conv2D)       (None, 64, 64, 256)       590080    \n",
            "                                                                 \n",
            " block3_conv3 (Conv2D)       (None, 64, 64, 256)       590080    \n",
            "                                                                 \n",
            " block3_conv4 (Conv2D)       (None, 64, 64, 256)       590080    \n",
            "                                                                 \n",
            " block3_pool (MaxPooling2D)  (None, 32, 32, 256)       0         \n",
            "                                                                 \n",
            " block4_conv1 (Conv2D)       (None, 32, 32, 512)       1180160   \n",
            "                                                                 \n",
            " block4_conv2 (Conv2D)       (None, 32, 32, 512)       2359808   \n",
            "                                                                 \n",
            " block4_conv3 (Conv2D)       (None, 32, 32, 512)       2359808   \n",
            "                                                                 \n",
            " block4_conv4 (Conv2D)       (None, 32, 32, 512)       2359808   \n",
            "                                                                 \n",
            " block4_pool (MaxPooling2D)  (None, 16, 16, 512)       0         \n",
            "                                                                 \n",
            " block5_conv1 (Conv2D)       (None, 16, 16, 512)       2359808   \n",
            "                                                                 \n",
            " block5_conv2 (Conv2D)       (None, 16, 16, 512)       2359808   \n",
            "                                                                 \n",
            " block5_conv3 (Conv2D)       (None, 16, 16, 512)       2359808   \n",
            "                                                                 \n",
            " block5_conv4 (Conv2D)       (None, 16, 16, 512)       2359808   \n",
            "                                                                 \n",
            " block5_pool (MaxPooling2D)  (None, 8, 8, 512)         0         \n",
            "                                                                 \n",
            " flatten (Flatten)           (None, 32768)             0         \n",
            "                                                                 \n",
            " dense (Dense)               (None, 38)                1245222   \n",
            "                                                                 \n",
            "=================================================================\n",
            "Total params: 21,269,606\n",
            "Trainable params: 1,245,222\n",
            "Non-trainable params: 20,024,384\n",
            "_________________________________________________________________\n"
          ]
        }
      ],
      "source": [
        "model.summary()"
      ]
    },
    {
      "cell_type": "code",
      "execution_count": 16,
      "metadata": {
        "id": "LACXGM6TXwZz"
      },
      "outputs": [],
      "source": [
        "from keras.callbacks import ModelCheckpoint, EarlyStopping\n",
        "import os\n",
        "#early stopping\n",
        "es = EarlyStopping(monitor= 'val_accuracy',\n",
        "                   min_delta = 0.01,\n",
        "                   patience= 3,\n",
        "                   verbose= 1)\n",
        "\n",
        "# model check point\n",
        "mc = ModelCheckpoint(filepath= \"best_model.h5\",\n",
        "                     monitor= 'val_accuracy',\n",
        "                     min_delta= 0.01,\n",
        "                     patience= 3, verbose= 1,\n",
        "                     save_best_only= True)\n",
        "\n",
        "cb = [es, mc]"
      ]
    },
    {
      "cell_type": "code",
      "execution_count": 24,
      "metadata": {
        "colab": {
          "base_uri": "https://localhost:8080/"
        },
        "id": "-KPNxfXiX6mI",
        "outputId": "ca832e86-2961-4cd0-8ce0-803609a4dab8"
      },
      "outputs": [
        {
          "output_type": "stream",
          "name": "stderr",
          "text": [
            "/usr/local/lib/python3.7/dist-packages/ipykernel_launcher.py:7: UserWarning: `Model.fit_generator` is deprecated and will be removed in a future version. Please use `Model.fit`, which supports generators.\n",
            "  import sys\n"
          ]
        },
        {
          "output_type": "stream",
          "name": "stdout",
          "text": [
            "Epoch 1/50\n",
            "16/16 [==============================] - ETA: 0s - loss: 8.5549 - accuracy: 0.6387\n",
            "Epoch 1: val_accuracy did not improve from 0.78125\n",
            "16/16 [==============================] - 13s 802ms/step - loss: 8.5549 - accuracy: 0.6387 - val_loss: 7.9448 - val_accuracy: 0.7246\n",
            "Epoch 2/50\n",
            "16/16 [==============================] - ETA: 0s - loss: 9.7783 - accuracy: 0.6621 \n",
            "Epoch 2: val_accuracy did not improve from 0.78125\n",
            "16/16 [==============================] - 13s 786ms/step - loss: 9.7783 - accuracy: 0.6621 - val_loss: 6.9941 - val_accuracy: 0.7617\n",
            "Epoch 3/50\n",
            "16/16 [==============================] - ETA: 0s - loss: 7.4581 - accuracy: 0.7188\n",
            "Epoch 3: val_accuracy did not improve from 0.78125\n",
            "16/16 [==============================] - 13s 793ms/step - loss: 7.4581 - accuracy: 0.7188 - val_loss: 5.8590 - val_accuracy: 0.7637\n",
            "Epoch 4/50\n",
            "16/16 [==============================] - ETA: 0s - loss: 9.5947 - accuracy: 0.6855\n",
            "Epoch 4: val_accuracy did not improve from 0.78125\n",
            "16/16 [==============================] - 14s 850ms/step - loss: 9.5947 - accuracy: 0.6855 - val_loss: 6.9729 - val_accuracy: 0.7559\n",
            "Epoch 5/50\n",
            "16/16 [==============================] - ETA: 0s - loss: 8.3946 - accuracy: 0.7207\n",
            "Epoch 5: val_accuracy did not improve from 0.78125\n",
            "16/16 [==============================] - 13s 804ms/step - loss: 8.3946 - accuracy: 0.7207 - val_loss: 5.9472 - val_accuracy: 0.7773\n",
            "Epoch 6/50\n",
            "16/16 [==============================] - ETA: 0s - loss: 8.0797 - accuracy: 0.7520\n",
            "Epoch 6: val_accuracy did not improve from 0.78125\n",
            "16/16 [==============================] - 13s 811ms/step - loss: 8.0797 - accuracy: 0.7520 - val_loss: 6.8522 - val_accuracy: 0.7773\n",
            "Epoch 7/50\n",
            "16/16 [==============================] - ETA: 0s - loss: 8.8661 - accuracy: 0.7117\n",
            "Epoch 7: val_accuracy improved from 0.78125 to 0.80469, saving model to best_model.h5\n",
            "16/16 [==============================] - 15s 937ms/step - loss: 8.8661 - accuracy: 0.7117 - val_loss: 5.0963 - val_accuracy: 0.8047\n",
            "Epoch 8/50\n",
            "16/16 [==============================] - ETA: 0s - loss: 8.0903 - accuracy: 0.7051\n",
            "Epoch 8: val_accuracy did not improve from 0.80469\n",
            "16/16 [==============================] - 13s 803ms/step - loss: 8.0903 - accuracy: 0.7051 - val_loss: 6.3832 - val_accuracy: 0.7871\n",
            "Epoch 9/50\n",
            "16/16 [==============================] - ETA: 0s - loss: 7.5643 - accuracy: 0.7285\n",
            "Epoch 9: val_accuracy improved from 0.80469 to 0.81445, saving model to best_model.h5\n",
            "16/16 [==============================] - 13s 822ms/step - loss: 7.5643 - accuracy: 0.7285 - val_loss: 5.4716 - val_accuracy: 0.8145\n",
            "Epoch 10/50\n",
            "16/16 [==============================] - ETA: 0s - loss: 7.5648 - accuracy: 0.7578\n",
            "Epoch 10: val_accuracy did not improve from 0.81445\n",
            "16/16 [==============================] - 13s 804ms/step - loss: 7.5648 - accuracy: 0.7578 - val_loss: 5.9158 - val_accuracy: 0.7910\n",
            "Epoch 10: early stopping\n"
          ]
        }
      ],
      "source": [
        "his = model.fit_generator(train, \n",
        "                steps_per_epoch= 16, \n",
        "                epochs= 50,\n",
        "                verbose= 1,\n",
        "                callbacks= cb,\n",
        "                validation_data= val,\n",
        "                validation_steps= 16)"
      ]
    },
    {
      "cell_type": "code",
      "execution_count": 25,
      "metadata": {
        "colab": {
          "base_uri": "https://localhost:8080/",
          "height": 281
        },
        "id": "JIM6RBn-X-fJ",
        "outputId": "710b5fd6-880d-4848-f732-6b9ff9d93339"
      },
      "outputs": [
        {
          "output_type": "display_data",
          "data": {
            "text/plain": [
              "<Figure size 432x288 with 1 Axes>"
            ],
            "image/png": "[encoded data removed]"
          },
          "metadata": {
            "needs_background": "light"
          }
        }
      ],
      "source": [
        "h = his.history\n",
        "h.keys()\n",
        "\n",
        "plt.plot(h['accuracy'])\n",
        "plt.plot(h['val_accuracy'], c = \"red\")\n",
        "plt.title(\"acc vs v-acc\")\n",
        "plt.show()"
      ]
    },
    {
      "cell_type": "code",
      "execution_count": 26,
      "metadata": {
        "colab": {
          "base_uri": "https://localhost:8080/",
          "height": 281
        },
        "id": "Tk2NVInSY4p_",
        "outputId": "5e7b4cb4-3367-49bd-a50c-251d10fb6ecd"
      },
      "outputs": [
        {
          "output_type": "display_data",
          "data": {
            "text/plain": [
              "<Figure size 432x288 with 1 Axes>"
            ],
            "image/png": "[encoded data removed]"
          },
          "metadata": {
            "needs_background": "light"
          }
        }
      ],
      "source": [
        "plt.plot(h['loss'])\n",
        "plt.plot(h['val_loss'], c = \"red\")\n",
        "plt.title(\"loss vs v-loss\")\n",
        "plt.show()"
      ]
    },
    {
      "cell_type": "code",
      "execution_count": 27,
      "metadata": {
        "id": "ZVN25nChY9je"
      },
      "outputs": [],
      "source": [
        "#load best model\n",
        "\n",
        "from keras.models import load_model\n",
        "\n",
        "model = load_model(\"/content/best_model.h5\")"
      ]
    },
    {
      "cell_type": "code",
      "execution_count": 28,
      "metadata": {
        "colab": {
          "base_uri": "https://localhost:8080/"
        },
        "id": "9aFrfKbiZEEt",
        "outputId": "9eb472e5-e937-41b0-875f-e585e9bbe88a"
      },
      "outputs": [
        {
          "output_type": "stream",
          "name": "stderr",
          "text": [
            "/usr/local/lib/python3.7/dist-packages/ipykernel_launcher.py:1: UserWarning: `Model.evaluate_generator` is deprecated and will be removed in a future version. Please use `Model.evaluate`, which supports generators.\n",
            "  \"\"\"Entry point for launching an IPython kernel.\n"
          ]
        },
        {
          "output_type": "stream",
          "name": "stdout",
          "text": [
            "The accuracy of model is : 81.95993900299072%\n"
          ]
        }
      ],
      "source": [
        "acc = model.evaluate_generator(val)[1] \n",
        "\n",
        "print(f\"The accuracy of model is : {acc*100}%\")"
      ]
    },
    {
      "cell_type": "code",
      "execution_count": 29,
      "metadata": {
        "id": "3iiWREh7qlLa"
      },
      "outputs": [],
      "source": [
        "ref = dict(zip(list(train.class_indices.values()),\n",
        "               list(train.class_indices.keys())))\n",
        "\n",
        "def prediction(path):\n",
        "\n",
        "  img = load_img(path, target_size=(256,256))\n",
        "  i = img_to_array(img)\n",
        "  im = preprocess_input(i)\n",
        "  img = np.expand_dims(im, axis= 0)\n",
        "  pred = np.argmax(model.predict(img))\n",
        "  print(f\"the image belongs to {ref[pred]}\")"
      ]
    },
    {
      "cell_type": "code",
      "execution_count": 30,
      "metadata": {
        "colab": {
          "base_uri": "https://localhost:8080/",
          "height": 308
        },
        "id": "MbkucrL_qxKC",
        "outputId": "b08d9bba-099d-47f3-df0e-a044419c79b9"
      },
      "outputs": [
        {
          "output_type": "stream",
          "name": "stdout",
          "text": [
            "1/1 [==============================] - 0s 155ms/step\n",
            "the image belongs to Potato___Early_blight\n"
          ]
        },
        {
          "output_type": "execute_result",
          "data": {
            "image/jpeg": "[encoded data removed]",
            "text/plain": [
              "<IPython.core.display.Image object>"
            ]
          },
          "metadata": {},
          "execution_count": 30
        }
      ],
      "source": [
        "path = \"/content/test/test/PotatoEarlyBlight5.JPG\"\n",
        "from IPython.display import Image\n",
        "prediction(path)\n",
        "Image(path)"
      ]
    }
  ],
  "metadata": {
    "accelerator": "GPU",
    "colab": {
      "provenance": []
    },
    "gpuClass": "standard",
    "kernelspec": {
      "display_name": "Python 3.10.5 64-bit",
      "language": "python",
      "name": "python3"
    },
    "language_info": {
      "name": "python",
      "version": "3.10.5"
    },
    "vscode": {
      "interpreter": {
        "hash": "107d7b120a5b68773a87d4067e673630b35702e55ebab3138143d08b1c4d7cbc"
      }
    }
  },
  "nbformat": 4,
  "nbformat_minor": 0
}