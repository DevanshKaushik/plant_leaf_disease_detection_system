{
  "cells": [
    {
      "cell_type": "code",
      "execution_count": null,
      "metadata": {
        "id": "nG3Z_W9ORuu9"
      },
      "outputs": [],
      "source": [
        "# !pip install -q kaggle\n",
        "# !mkdir ~/.kaggle\n",
        "# !cp kaggle.json ~/.kaggle/\n",
        "# !chmod 600 ~/.kaggle/kaggle.json\n",
        "# !kaggle datasets download -d vipoooool/new-plant-diseases-dataset\n",
        "# !unzip new-plant-diseases-dataset.zip"
      ]
    },
    {
      "cell_type": "code",
      "execution_count": null,
      "metadata": {
        "id": "PrsgeBZ6SGEt"
      },
      "outputs": [],
      "source": [
        "import numpy as np\n",
        "import pandas as pd\n",
        "import matplotlib.pyplot as plt\n",
        "from IPython.display import Image\n",
        "import os\n",
        "\n",
        "import tensorflow.keras\n",
        "\n",
        "from tensorflow.keras.preprocessing.image import ImageDataGenerator, img_to_array, load_img\n",
        "from tensorflow.keras.applications.vgg19 import VGG19, preprocess_input, decode_predictions"
      ]
    },
    {
      "cell_type": "code",
      "execution_count": null,
      "metadata": {
        "id": "LHP_oNB4TDSL"
      },
      "outputs": [],
      "source": [
        "train_datagen = ImageDataGenerator(zoom_range= 0.5,\n",
        "                                   shear_range= 0.3,\n",
        "                                   horizontal_flip= True,\n",
        "                                   preprocessing_function = preprocess_input)\n",
        "\n",
        "val_datagen = ImageDataGenerator(preprocessing_function = preprocess_input)"
      ]
    },
    {
      "cell_type": "code",
      "execution_count": null,
      "metadata": {
        "colab": {
          "base_uri": "https://localhost:8080/"
        },
        "id": "xa52wcAGWpYO",
        "outputId": "dddb374c-15b1-41c7-93be-9b540732b766"
      },
      "outputs": [
        {
          "name": "stdout",
          "output_type": "stream",
          "text": [
            "Found 70295 images belonging to 38 classes.\n",
            "Found 17572 images belonging to 38 classes.\n"
          ]
        }
      ],
      "source": [
        "train_dir = \"/content/New Plant Diseases Dataset(Augmented)/New Plant Diseases Dataset(Augmented)/train\"\n",
        "valid_dir = \"/content/New Plant Diseases Dataset(Augmented)/New Plant Diseases Dataset(Augmented)/valid\"\n",
        "\n",
        "train = train_datagen.flow_from_directory(directory = train_dir,\n",
        "                                          target_size= (256,256),\n",
        "                                          batch_size= 32)\n",
        "val = val_datagen.flow_from_directory(directory = valid_dir,\n",
        "                                          target_size= (256,256),\n",
        "                                          batch_size= 32)"
      ]
    },
    {
      "cell_type": "code",
      "execution_count": null,
      "metadata": {
        "id": "Jt4XCLfSWvsD"
      },
      "outputs": [],
      "source": [
        "t_img, label = train.next()"
      ]
    },
    {
      "cell_type": "code",
      "execution_count": null,
      "metadata": {
        "id": "4i0kmufqWzH6"
      },
      "outputs": [],
      "source": [
        "def plotImage(img_arr, label):\n",
        "  for im, l in zip(img_arr, label):\n",
        "    plt.figure(figsize=(5,5)) \n",
        "    plt.show()"
      ]
    },
    {
      "cell_type": "code",
      "execution_count": null,
      "metadata": {
        "colab": {
          "base_uri": "https://localhost:8080/",
          "height": 69
        },
        "id": "NYAGxOLHW3aI",
        "outputId": "082cc464-ffd8-4b28-f4bd-beddbb069532"
      },
      "outputs": [
        {
          "data": {
            "text/plain": [
              "<Figure size 360x360 with 0 Axes>"
            ]
          },
          "metadata": {},
          "output_type": "display_data"
        },
        {
          "data": {
            "text/plain": [
              "<Figure size 360x360 with 0 Axes>"
            ]
          },
          "metadata": {},
          "output_type": "display_data"
        },
        {
          "data": {
            "text/plain": [
              "<Figure size 360x360 with 0 Axes>"
            ]
          },
          "metadata": {},
          "output_type": "display_data"
        }
      ],
      "source": [
        "plotImage(t_img[:3], label[:3])"
      ]
    },
    {
      "cell_type": "code",
      "execution_count": null,
      "metadata": {
        "id": "k3A0TNpjW6fM"
      },
      "outputs": [],
      "source": [
        "from tensorflow.keras.layers import Dense, Flatten\n",
        "from tensorflow.keras.models import Model\n",
        "from tensorflow.keras.applications.vgg19 import VGG19\n",
        "from tensorflow import keras"
      ]
    },
    {
      "cell_type": "code",
      "execution_count": null,
      "metadata": {
        "colab": {
          "base_uri": "https://localhost:8080/"
        },
        "id": "3wKD3wcuXG43",
        "outputId": "a35c2674-7589-4eaf-9731-0546872a63f1"
      },
      "outputs": [
        {
          "name": "stdout",
          "output_type": "stream",
          "text": [
            "Downloading data from https://storage.googleapis.com/tensorflow/keras-applications/vgg19/vgg19_weights_tf_dim_ordering_tf_kernels_notop.h5\n",
            "80134624/80134624 [==============================] - 3s 0us/step\n"
          ]
        }
      ],
      "source": [
        "base_model = VGG19(input_shape=(256,256,3), include_top= False)"
      ]
    },
    {
      "cell_type": "code",
      "execution_count": null,
      "metadata": {
        "id": "uE0F1S9TXLOp"
      },
      "outputs": [],
      "source": [
        "for layer in base_model.layers:\n",
        "  layer.trainable= False"
      ]
    },
    {
      "cell_type": "code",
      "execution_count": null,
      "metadata": {
        "colab": {
          "base_uri": "https://localhost:8080/"
        },
        "id": "55iKEDsmXSeb",
        "outputId": "9cb9a717-46c7-47c7-bd64-a52f7513521e"
      },
      "outputs": [
        {
          "name": "stdout",
          "output_type": "stream",
          "text": [
            "Model: \"vgg19\"\n",
            "_________________________________________________________________\n",
            " Layer (type)                Output Shape              Param #   \n",
            "=================================================================\n",
            " input_1 (InputLayer)        [(None, 256, 256, 3)]     0         \n",
            "                                                                 \n",
            " block1_conv1 (Conv2D)       (None, 256, 256, 64)      1792      \n",
            "                                                                 \n",
            " block1_conv2 (Conv2D)       (None, 256, 256, 64)      36928     \n",
            "                                                                 \n",
            " block1_pool (MaxPooling2D)  (None, 128, 128, 64)      0         \n",
            "                                                                 \n",
            " block2_conv1 (Conv2D)       (None, 128, 128, 128)     73856     \n",
            "                                                                 \n",
            " block2_conv2 (Conv2D)       (None, 128, 128, 128)     147584    \n",
            "                                                                 \n",
            " block2_pool (MaxPooling2D)  (None, 64, 64, 128)       0         \n",
            "                                                                 \n",
            " block3_conv1 (Conv2D)       (None, 64, 64, 256)       295168    \n",
            "                                                                 \n",
            " block3_conv2 (Conv2D)       (None, 64, 64, 256)       590080    \n",
            "                                                                 \n",
            " block3_conv3 (Conv2D)       (None, 64, 64, 256)       590080    \n",
            "                                                                 \n",
            " block3_conv4 (Conv2D)       (None, 64, 64, 256)       590080    \n",
            "                                                                 \n",
            " block3_pool (MaxPooling2D)  (None, 32, 32, 256)       0         \n",
            "                                                                 \n",
            " block4_conv1 (Conv2D)       (None, 32, 32, 512)       1180160   \n",
            "                                                                 \n",
            " block4_conv2 (Conv2D)       (None, 32, 32, 512)       2359808   \n",
            "                                                                 \n",
            " block4_conv3 (Conv2D)       (None, 32, 32, 512)       2359808   \n",
            "                                                                 \n",
            " block4_conv4 (Conv2D)       (None, 32, 32, 512)       2359808   \n",
            "                                                                 \n",
            " block4_pool (MaxPooling2D)  (None, 16, 16, 512)       0         \n",
            "                                                                 \n",
            " block5_conv1 (Conv2D)       (None, 16, 16, 512)       2359808   \n",
            "                                                                 \n",
            " block5_conv2 (Conv2D)       (None, 16, 16, 512)       2359808   \n",
            "                                                                 \n",
            " block5_conv3 (Conv2D)       (None, 16, 16, 512)       2359808   \n",
            "                                                                 \n",
            " block5_conv4 (Conv2D)       (None, 16, 16, 512)       2359808   \n",
            "                                                                 \n",
            " block5_pool (MaxPooling2D)  (None, 8, 8, 512)         0         \n",
            "                                                                 \n",
            "=================================================================\n",
            "Total params: 20,024,384\n",
            "Trainable params: 0\n",
            "Non-trainable params: 20,024,384\n",
            "_________________________________________________________________\n"
          ]
        }
      ],
      "source": [
        "base_model.summary()"
      ]
    },
    {
      "cell_type": "code",
      "execution_count": null,
      "metadata": {
        "id": "jlwFYwyXXWOA"
      },
      "outputs": [],
      "source": [
        "X = Flatten()(base_model.output)\n",
        "\n",
        "X = Dense(units = 38, activation='softmax')(X)\n",
        "\n",
        "#Creating our model\n",
        "model = Model(base_model.input, X)"
      ]
    },
    {
      "cell_type": "code",
      "execution_count": null,
      "metadata": {
        "id": "ReEQVZP8XfbU"
      },
      "outputs": [],
      "source": [
        "model.compile(optimizer= 'adam',\n",
        "              loss= keras.losses.categorical_crossentropy,\n",
        "              metrics= ['accuracy'])"
      ]
    },
    {
      "cell_type": "code",
      "execution_count": null,
      "metadata": {
        "colab": {
          "base_uri": "https://localhost:8080/"
        },
        "id": "HLmw8XLyXjwq",
        "outputId": "87a6307a-6bc7-46b8-aace-2b9cb22b44eb"
      },
      "outputs": [
        {
          "name": "stdout",
          "output_type": "stream",
          "text": [
            "Model: \"model\"\n",
            "_________________________________________________________________\n",
            " Layer (type)                Output Shape              Param #   \n",
            "=================================================================\n",
            " input_1 (InputLayer)        [(None, 256, 256, 3)]     0         \n",
            "                                                                 \n",
            " block1_conv1 (Conv2D)       (None, 256, 256, 64)      1792      \n",
            "                                                                 \n",
            " block1_conv2 (Conv2D)       (None, 256, 256, 64)      36928     \n",
            "                                                                 \n",
            " block1_pool (MaxPooling2D)  (None, 128, 128, 64)      0         \n",
            "                                                                 \n",
            " block2_conv1 (Conv2D)       (None, 128, 128, 128)     73856     \n",
            "                                                                 \n",
            " block2_conv2 (Conv2D)       (None, 128, 128, 128)     147584    \n",
            "                                                                 \n",
            " block2_pool (MaxPooling2D)  (None, 64, 64, 128)       0         \n",
            "                                                                 \n",
            " block3_conv1 (Conv2D)       (None, 64, 64, 256)       295168    \n",
            "                                                                 \n",
            " block3_conv2 (Conv2D)       (None, 64, 64, 256)       590080    \n",
            "                                                                 \n",
            " block3_conv3 (Conv2D)       (None, 64, 64, 256)       590080    \n",
            "                                                                 \n",
            " block3_conv4 (Conv2D)       (None, 64, 64, 256)       590080    \n",
            "                                                                 \n",
            " block3_pool (MaxPooling2D)  (None, 32, 32, 256)       0         \n",
            "                                                                 \n",
            " block4_conv1 (Conv2D)       (None, 32, 32, 512)       1180160   \n",
            "                                                                 \n",
            " block4_conv2 (Conv2D)       (None, 32, 32, 512)       2359808   \n",
            "                                                                 \n",
            " block4_conv3 (Conv2D)       (None, 32, 32, 512)       2359808   \n",
            "                                                                 \n",
            " block4_conv4 (Conv2D)       (None, 32, 32, 512)       2359808   \n",
            "                                                                 \n",
            " block4_pool (MaxPooling2D)  (None, 16, 16, 512)       0         \n",
            "                                                                 \n",
            " block5_conv1 (Conv2D)       (None, 16, 16, 512)       2359808   \n",
            "                                                                 \n",
            " block5_conv2 (Conv2D)       (None, 16, 16, 512)       2359808   \n",
            "                                                                 \n",
            " block5_conv3 (Conv2D)       (None, 16, 16, 512)       2359808   \n",
            "                                                                 \n",
            " block5_conv4 (Conv2D)       (None, 16, 16, 512)       2359808   \n",
            "                                                                 \n",
            " block5_pool (MaxPooling2D)  (None, 8, 8, 512)         0         \n",
            "                                                                 \n",
            " flatten (Flatten)           (None, 32768)             0         \n",
            "                                                                 \n",
            " dense (Dense)               (None, 38)                1245222   \n",
            "                                                                 \n",
            "=================================================================\n",
            "Total params: 21,269,606\n",
            "Trainable params: 1,245,222\n",
            "Non-trainable params: 20,024,384\n",
            "_________________________________________________________________\n"
          ]
        }
      ],
      "source": [
        "model.summary()"
      ]
    },
    {
      "cell_type": "code",
      "execution_count": null,
      "metadata": {
        "id": "LACXGM6TXwZz"
      },
      "outputs": [],
      "source": [
        "from keras.callbacks import ModelCheckpoint, EarlyStopping\n",
        "import os\n",
        "#early stopping\n",
        "es = EarlyStopping(monitor= 'val_accuracy',\n",
        "                   min_delta = 0.01,\n",
        "                   patience= 3,\n",
        "                   verbose= 1)\n",
        "\n",
        "# model check point\n",
        "mc = ModelCheckpoint(filepath= \"best_model.h5\",\n",
        "                     monitor= 'val_accuracy',\n",
        "                     min_delta= 0.01,\n",
        "                     patience= 3, verbose= 1,\n",
        "                     save_best_only= True)\n",
        "\n",
        "cb = [es, mc]"
      ]
    },
    {
      "cell_type": "code",
      "execution_count": null,
      "metadata": {
        "colab": {
          "base_uri": "https://localhost:8080/"
        },
        "id": "-KPNxfXiX6mI",
        "outputId": "9556c9ca-1c8c-479b-e095-c1767fb83aa1"
      },
      "outputs": [
        {
          "name": "stderr",
          "output_type": "stream",
          "text": [
            "/usr/local/lib/python3.7/dist-packages/ipykernel_launcher.py:7: UserWarning: `Model.fit_generator` is deprecated and will be removed in a future version. Please use `Model.fit`, which supports generators.\n",
            "  import sys\n"
          ]
        },
        {
          "name": "stdout",
          "output_type": "stream",
          "text": [
            "Epoch 1/50\n",
            "16/16 [==============================] - ETA: 0s - loss: 25.4099 - accuracy: 0.2031\n",
            "Epoch 1: val_accuracy improved from -inf to 0.39258, saving model to best_model.h5\n",
            "16/16 [==============================] - 25s 816ms/step - loss: 25.4099 - accuracy: 0.2031 - val_loss: 16.1512 - val_accuracy: 0.3926\n",
            "Epoch 2/50\n",
            "16/16 [==============================] - ETA: 0s - loss: 15.9236 - accuracy: 0.4160\n",
            "Epoch 2: val_accuracy improved from 0.39258 to 0.47656, saving model to best_model.h5\n",
            "16/16 [==============================] - 13s 829ms/step - loss: 15.9236 - accuracy: 0.4160 - val_loss: 13.8280 - val_accuracy: 0.4766\n",
            "Epoch 3/50\n",
            "16/16 [==============================] - ETA: 0s - loss: 12.4947 - accuracy: 0.5312\n",
            "Epoch 3: val_accuracy improved from 0.47656 to 0.67383, saving model to best_model.h5\n",
            "16/16 [==============================] - 13s 809ms/step - loss: 12.4947 - accuracy: 0.5312 - val_loss: 8.8036 - val_accuracy: 0.6738\n",
            "Epoch 4/50\n",
            "16/16 [==============================] - ETA: 0s - loss: 11.7858 - accuracy: 0.5664\n",
            "Epoch 4: val_accuracy did not improve from 0.67383\n",
            "16/16 [==============================] - 14s 867ms/step - loss: 11.7858 - accuracy: 0.5664 - val_loss: 8.7456 - val_accuracy: 0.6680\n",
            "Epoch 5/50\n",
            "16/16 [==============================] - ETA: 0s - loss: 9.5372 - accuracy: 0.6309\n",
            "Epoch 5: val_accuracy improved from 0.67383 to 0.70508, saving model to best_model.h5\n",
            "16/16 [==============================] - 13s 811ms/step - loss: 9.5372 - accuracy: 0.6309 - val_loss: 7.5257 - val_accuracy: 0.7051\n",
            "Epoch 6/50\n",
            "16/16 [==============================] - ETA: 0s - loss: 10.6518 - accuracy: 0.6348\n",
            "Epoch 6: val_accuracy did not improve from 0.70508\n",
            "16/16 [==============================] - 13s 808ms/step - loss: 10.6518 - accuracy: 0.6348 - val_loss: 7.6756 - val_accuracy: 0.6914\n",
            "Epoch 7/50\n",
            "16/16 [==============================] - ETA: 0s - loss: 7.7065 - accuracy: 0.6777\n",
            "Epoch 7: val_accuracy improved from 0.70508 to 0.73828, saving model to best_model.h5\n",
            "16/16 [==============================] - 13s 804ms/step - loss: 7.7065 - accuracy: 0.6777 - val_loss: 6.4100 - val_accuracy: 0.7383\n",
            "Epoch 8/50\n",
            "16/16 [==============================] - ETA: 0s - loss: 7.9273 - accuracy: 0.6758\n",
            "Epoch 8: val_accuracy did not improve from 0.73828\n",
            "16/16 [==============================] - 13s 790ms/step - loss: 7.9273 - accuracy: 0.6758 - val_loss: 8.4505 - val_accuracy: 0.7090\n",
            "Epoch 9/50\n",
            "16/16 [==============================] - ETA: 0s - loss: 9.9596 - accuracy: 0.6914 \n",
            "Epoch 9: val_accuracy improved from 0.73828 to 0.77344, saving model to best_model.h5\n",
            "16/16 [==============================] - 13s 816ms/step - loss: 9.9596 - accuracy: 0.6914 - val_loss: 5.9264 - val_accuracy: 0.7734\n",
            "Epoch 10/50\n",
            "16/16 [==============================] - ETA: 0s - loss: 8.4119 - accuracy: 0.7012\n",
            "Epoch 10: val_accuracy improved from 0.77344 to 0.77734, saving model to best_model.h5\n",
            "16/16 [==============================] - 13s 840ms/step - loss: 8.4119 - accuracy: 0.7012 - val_loss: 6.7566 - val_accuracy: 0.7773\n",
            "Epoch 11/50\n",
            "16/16 [==============================] - ETA: 0s - loss: 7.2069 - accuracy: 0.6992\n",
            "Epoch 11: val_accuracy did not improve from 0.77734\n",
            "16/16 [==============================] - 13s 826ms/step - loss: 7.2069 - accuracy: 0.6992 - val_loss: 5.6015 - val_accuracy: 0.7773\n",
            "Epoch 12/50\n",
            "16/16 [==============================] - ETA: 0s - loss: 8.1254 - accuracy: 0.7324\n",
            "Epoch 12: val_accuracy improved from 0.77734 to 0.80664, saving model to best_model.h5\n",
            "16/16 [==============================] - 14s 858ms/step - loss: 8.1254 - accuracy: 0.7324 - val_loss: 5.5894 - val_accuracy: 0.8066\n",
            "Epoch 13/50\n",
            "16/16 [==============================] - ETA: 0s - loss: 8.1426 - accuracy: 0.7129\n",
            "Epoch 13: val_accuracy did not improve from 0.80664\n",
            "16/16 [==============================] - 13s 806ms/step - loss: 8.1426 - accuracy: 0.7129 - val_loss: 5.9357 - val_accuracy: 0.7988\n",
            "Epoch 14/50\n",
            "16/16 [==============================] - ETA: 0s - loss: 8.3962 - accuracy: 0.7383\n",
            "Epoch 14: val_accuracy improved from 0.80664 to 0.81250, saving model to best_model.h5\n",
            "16/16 [==============================] - 13s 828ms/step - loss: 8.3962 - accuracy: 0.7383 - val_loss: 5.4493 - val_accuracy: 0.8125\n",
            "Epoch 15/50\n",
            "16/16 [==============================] - ETA: 0s - loss: 7.6082 - accuracy: 0.7598\n",
            "Epoch 15: val_accuracy did not improve from 0.81250\n",
            "16/16 [==============================] - 13s 824ms/step - loss: 7.6082 - accuracy: 0.7598 - val_loss: 5.7359 - val_accuracy: 0.8086\n",
            "Epoch 15: early stopping\n"
          ]
        }
      ],
      "source": [
        "his = model.fit_generator(train, \n",
        "                steps_per_epoch= 16, \n",
        "                epochs= 50,\n",
        "                verbose= 1,\n",
        "                callbacks= cb,\n",
        "                validation_data= val,\n",
        "                validation_steps= 16)"
      ]
    },
    {
      "cell_type": "code",
      "execution_count": null,
      "metadata": {
        "colab": {
          "base_uri": "https://localhost:8080/",
          "height": 281
        },
        "id": "JIM6RBn-X-fJ",
        "outputId": "a08b6be7-bf67-4c8e-8bb6-36cc867c9b4a"
      },
      "outputs": [
        {
          "data": {
            "image/png": "[encoded data removed]",
            "text/plain": [
              "<Figure size 432x288 with 1 Axes>"
            ]
          },
          "metadata": {
            "needs_background": "light"
          },
          "output_type": "display_data"
        }
      ],
      "source": [
        "h = his.history\n",
        "h.keys()\n",
        "\n",
        "plt.plot(h['accuracy'])\n",
        "plt.plot(h['val_accuracy'], c = \"red\")\n",
        "plt.title(\"acc vs v-acc\")\n",
        "plt.show()"
      ]
    },
    {
      "cell_type": "code",
      "execution_count": null,
      "metadata": {
        "colab": {
          "base_uri": "https://localhost:8080/",
          "height": 281
        },
        "id": "Tk2NVInSY4p_",
        "outputId": "bab11e45-9f01-44e0-e49d-3d29b2482601"
      },
      "outputs": [
        {
          "data": {
            "image/png": "[encoded data removed]",
            "text/plain": [
              "<Figure size 432x288 with 1 Axes>"
            ]
          },
          "metadata": {
            "needs_background": "light"
          },
          "output_type": "display_data"
        }
      ],
      "source": [
        "plt.plot(h['loss'])\n",
        "plt.plot(h['val_loss'], c = \"red\")\n",
        "plt.title(\"loss vs v-loss\")\n",
        "plt.show()"
      ]
    },
    {
      "cell_type": "code",
      "execution_count": null,
      "metadata": {
        "id": "ZVN25nChY9je"
      },
      "outputs": [],
      "source": [
        "#load best model\n",
        "\n",
        "from keras.models import load_model\n",
        "\n",
        "model = load_model(\"/content/best_model.h5\")"
      ]
    },
    {
      "cell_type": "code",
      "execution_count": null,
      "metadata": {
        "colab": {
          "base_uri": "https://localhost:8080/"
        },
        "id": "9aFrfKbiZEEt",
        "outputId": "01ecd73e-3821-4cf8-c9c9-be0aabf1f085"
      },
      "outputs": [
        {
          "name": "stderr",
          "output_type": "stream",
          "text": [
            "/usr/local/lib/python3.7/dist-packages/ipykernel_launcher.py:1: UserWarning: `Model.evaluate_generator` is deprecated and will be removed in a future version. Please use `Model.evaluate`, which supports generators.\n",
            "  \"\"\"Entry point for launching an IPython kernel.\n"
          ]
        },
        {
          "name": "stdout",
          "output_type": "stream",
          "text": [
            "The accuracy of model is : 80.45185804367065%\n"
          ]
        }
      ],
      "source": [
        "acc = model.evaluate_generator(val)[1] \n",
        "\n",
        "print(f\"The accuracy of model is : {acc*100}%\")"
      ]
    },
    {
      "cell_type": "code",
      "execution_count": null,
      "metadata": {
        "colab": {
          "base_uri": "https://localhost:8080/"
        },
        "id": "9Va-8ig3ZHBT",
        "outputId": "43035711-443c-4b85-cf48-71f2871f246f"
      },
      "outputs": [
        {
          "name": "stdout",
          "output_type": "stream",
          "text": [
            "1/1 [==============================] - 1s 629ms/step\n",
            " the image belongs to Potato___Early_blight\n"
          ]
        },
        {
          "data": {
            "text/plain": [
              "{'Apple___Apple_scab': 0,\n",
              " 'Apple___Black_rot': 1,\n",
              " 'Apple___Cedar_apple_rust': 2,\n",
              " 'Apple___healthy': 3,\n",
              " 'Blueberry___healthy': 4,\n",
              " 'Cherry_(including_sour)___Powdery_mildew': 5,\n",
              " 'Cherry_(including_sour)___healthy': 6,\n",
              " 'Corn_(maize)___Cercospora_leaf_spot Gray_leaf_spot': 7,\n",
              " 'Corn_(maize)___Common_rust_': 8,\n",
              " 'Corn_(maize)___Northern_Leaf_Blight': 9,\n",
              " 'Corn_(maize)___healthy': 10,\n",
              " 'Grape___Black_rot': 11,\n",
              " 'Grape___Esca_(Black_Measles)': 12,\n",
              " 'Grape___Leaf_blight_(Isariopsis_Leaf_Spot)': 13,\n",
              " 'Grape___healthy': 14,\n",
              " 'Orange___Haunglongbing_(Citrus_greening)': 15,\n",
              " 'Peach___Bacterial_spot': 16,\n",
              " 'Peach___healthy': 17,\n",
              " 'Pepper,_bell___Bacterial_spot': 18,\n",
              " 'Pepper,_bell___healthy': 19,\n",
              " 'Potato___Early_blight': 20,\n",
              " 'Potato___Late_blight': 21,\n",
              " 'Potato___healthy': 22,\n",
              " 'Raspberry___healthy': 23,\n",
              " 'Soybean___healthy': 24,\n",
              " 'Squash___Powdery_mildew': 25,\n",
              " 'Strawberry___Leaf_scorch': 26,\n",
              " 'Strawberry___healthy': 27,\n",
              " 'Tomato___Bacterial_spot': 28,\n",
              " 'Tomato___Early_blight': 29,\n",
              " 'Tomato___Late_blight': 30,\n",
              " 'Tomato___Leaf_Mold': 31,\n",
              " 'Tomato___Septoria_leaf_spot': 32,\n",
              " 'Tomato___Spider_mites Two-spotted_spider_mite': 33,\n",
              " 'Tomato___Target_Spot': 34,\n",
              " 'Tomato___Tomato_Yellow_Leaf_Curl_Virus': 35,\n",
              " 'Tomato___Tomato_mosaic_virus': 36,\n",
              " 'Tomato___healthy': 37}"
            ]
          },
          "execution_count": 30,
          "metadata": {},
          "output_type": "execute_result"
        }
      ],
      "source": [
        "ref = dict(zip(list(train.class_indices.values()),\n",
        "               list(train.class_indices.keys())))\n",
        "\n",
        "\n",
        "def prediction(path):\n",
        "\n",
        "  img = load_img(path, target_size=(256,256))\n",
        "  i = img_to_array(img)\n",
        "  im = preprocess_input(i)\n",
        "  img = np.expand_dims(im, axis= 0)\n",
        "  pred = np.argmax(model.predict(img))\n",
        "  print(f\" the image belongs to {ref[pred]}\")\n",
        "\n",
        "path = \"/content/test/test/PotatoEarlyBlight5.JPG\"\n",
        "\n",
        "prediction(path)"
      ]
    },
    {
      "cell_type": "code",
      "execution_count": null,
      "metadata": {
        "id": "3iiWREh7qlLa"
      },
      "outputs": [],
      "source": [
        "ref = dict(zip(list(train.class_indices.values()),\n",
        "               list(train.class_indices.keys())))\n",
        "\n",
        "def prediction(path):\n",
        "\n",
        "  img = load_img(path, target_size=(256,256))\n",
        "  i = img_to_array(img)\n",
        "  im = preprocess_input(i)\n",
        "  img = np.expand_dims(im, axis= 0)\n",
        "  pred = np.argmax(model.predict(img))\n",
        "  print(f\" the image belongs to {ref[pred]}\")"
      ]
    },
    {
      "cell_type": "code",
      "execution_count": null,
      "metadata": {
        "colab": {
          "base_uri": "https://localhost:8080/",
          "height": 308
        },
        "id": "MbkucrL_qxKC",
        "outputId": "11395308-02aa-4401-9164-2987f56967eb"
      },
      "outputs": [
        {
          "name": "stdout",
          "output_type": "stream",
          "text": [
            "1/1 [==============================] - 0s 16ms/step\n",
            " the image belongs to Potato___Early_blight\n"
          ]
        },
        {
          "data": {
            "image/jpeg": "[encoded data removed]",
            "text/plain": [
              "<IPython.core.display.Image object>"
            ]
          },
          "execution_count": 32,
          "metadata": {},
          "output_type": "execute_result"
        }
      ],
      "source": [
        "path = \"/content/test/test/PotatoEarlyBlight5.JPG\"\n",
        "\n",
        "prediction(path)\n",
        "Image(path)"
      ]
    }
  ],
  "metadata": {
    "accelerator": "GPU",
    "colab": {
      "provenance": []
    },
    "gpuClass": "standard",
    "kernelspec": {
      "display_name": "Python 3.10.5 64-bit",
      "language": "python",
      "name": "python3"
    },
    "language_info": {
      "name": "python",
      "version": "3.10.5"
    },
    "vscode": {
      "interpreter": {
        "hash": "107d7b120a5b68773a87d4067e673630b35702e55ebab3138143d08b1c4d7cbc"
      }
    }
  },
  "nbformat": 4,
  "nbformat_minor": 0
}
